{
 "cells": [
  {
   "cell_type": "code",
   "execution_count": 1,
   "id": "17c4b591-a267-4e8e-86d1-c323fd94e00f",
   "metadata": {},
   "outputs": [],
   "source": [
    "\"\"\"\n",
    "Example of using meshing_ats.py to generate a simple hillslope.\n",
    "\n",
    "\"\"\"\n",
    "\n",
    "import sys,os\n",
    "import numpy as np\n",
    "from matplotlib import pyplot as plt\n",
    "\n",
    "# This is the standard path for SEACAS if Amanzi TPLS are built via\n",
    "# bootstrap with --build-shared\n",
    "try:\n",
    "    import exodus3 as exodus\n",
    "except ImportError:\n",
    "    sys.path.append(os.path.join(os.environ['AMANZI_TPLS_DIR'],'SEACAS', 'lib'))\n",
    "    import exodus\n"
   ]
  },
  {
   "cell_type": "code",
   "execution_count": 2,
   "id": "13c1cff0-d018-459a-9dce-64b21b61c05f",
   "metadata": {},
   "outputs": [],
   "source": [
    "try:\n",
    "    import meshing_ats\n",
    "except ImportError:\n",
    "    sys.path.append(os.path.join(os.environ['ATS_SRC_DIR'],'tools','meshing','meshing_ats'))\n",
    "    import meshing_ats"
   ]
  },
  {
   "cell_type": "code",
   "execution_count": 5,
   "id": "629400d1-6a64-497d-8b19-d08f9b9c0d8a",
   "metadata": {},
   "outputs": [
    {
     "name": "stdout",
     "output_type": "stream",
     "text": [
      "# of x and z coordinates: 20, 20\n"
     ]
    },
    {
     "data": {
      "image/png": "[encoded data removed]",
      "text/plain": [
       "<Figure size 432x288 with 1 Axes>"
      ]
     },
     "metadata": {
      "needs_background": "light"
     },
     "output_type": "display_data"
    }
   ],
   "source": [
    "\n",
    "# Specify the top surface, given by z(x).\n",
    "#\n",
    "# 100m long hillslope, 10% slope, 100 cells (or 101 nodes) in x.\n",
    "x = np.linspace(0,20,20)\n",
    "z = [6.62,4.97,3.36,3.5,8.8,11.36,9.6,7.6,6.1,4,2.7,0.8,0.3,0.1,0.4,0.3,0.2,0.05,0.01,0.01]\n",
    "print(f'# of x and z coordinates: {len(x)}, {len(z)}')\n",
    "\n",
    "# plot the surface topography\n",
    "plt.plot(x,z); plt.xlabel('x distance (m)'); plt.ylabel('z elevation (m)')\n",
    "m2 = meshing_ats.Mesh2D.from_Transect(x,z,80)"
   ]
  },
  {
   "cell_type": "code",
   "execution_count": 7,
   "id": "0770eb43-86b2-4ae9-9b49-fbb6f0df5687",
   "metadata": {},
   "outputs": [
    {
     "data": {
      "image/png": "[encoded data removed]",
      "text/plain": [
       "<Figure size 432x288 with 1 Axes>"
      ]
     },
     "metadata": {
      "needs_background": "light"
     },
     "output_type": "display_data"
    }
   ],
   "source": [
    "# In this mesh, we vary the organic layer thickness across the hillslope.\n",
    "#\n",
    "# Changing organic layer thickness \n",
    "def organic_thickness1(x):\n",
    "    \"\"\"This function is the thickness of the layer we want to vary as a function of distance down the slope\"\"\"\n",
    "    if x <= 4:\n",
    "        thickness = 1\n",
    "    elif ((8 < x) and (x <= 12)):\n",
    "        thickness = 1.3\n",
    "    elif ((12 < x) and (x < 16)):\n",
    "        thickness = 1.6\n",
    "    else:\n",
    "        thickness = 1.8\n",
    "    return thickness\n",
    "def organic_thickness2(x):\n",
    "    \"\"\"This function is the thickness of the layer we want to vary as a function of distance down the slope\"\"\"\n",
    "    if x <= 4:\n",
    "        thickness = 2\n",
    "    elif ((8 < x) and (x <= 12)):\n",
    "        thickness = 2.3\n",
    "    elif ((12 < x) and (x < 16)):\n",
    "        thickness = 2.6\n",
    "    else:\n",
    "        thickness = 2.8\n",
    "    return thickness\n",
    "def organic_thickness3(x):\n",
    "    \"\"\"This function is the thickness of the layer we want to vary as a function of distance down the slope\"\"\"\n",
    "    if x <= 4:\n",
    "        thickness = 3\n",
    "    elif ((8 < x) and (x <= 12)):\n",
    "        thickness = 3.3\n",
    "    elif ((12 < x) and (x < 16)):\n",
    "        thickness = 3.6\n",
    "    else:\n",
    "        thickness = 3.8\n",
    "    return thickness\n",
    "layer_1 = np.array([organic_thickness1(xx) for xx in m2.coords[:,0]])\n",
    "layer_2 = np.array([organic_thickness2(xx) for xx in m2.coords[:,0]])\n",
    "layer_3 = np.array([organic_thickness3(xx) for xx in m2.coords[:,0]])\n",
    "plt.plot(x, layer_1[0:20]); plt.xlabel('x distance (m)'); plt.ylabel('org. layer thickness (m)');\n",
    "plt.plot(x, layer_2[0:20]); plt.xlabel('x distance (m)'); plt.ylabel('org. layer thickness (m)');\n",
    "plt.plot(x, layer_3[0:20]); plt.xlabel('x distance (m)'); plt.ylabel('org. layer thickness (m)');"
   ]
  },
  {
   "cell_type": "code",
   "execution_count": 9,
   "id": "dbf3bb46-78e1-4778-8580-cbb270e4d86a",
   "metadata": {},
   "outputs": [
    {
     "name": "stdout",
     "output_type": "stream",
     "text": [
      "Cell summary:\n",
      "------------------------------------------------------------\n",
      "l_id\t| c_id\t|mat_id\t| dz\t\t| z_top\n",
      "------------------------------------------------------------\n",
      " 00 \t| 00 \t|   10 \t|   0.050000 \t|   0.000000\n",
      " 01 \t| 01 \t|   10 \t|   0.050000 \t|   0.050000\n",
      " 02 \t| 02 \t|   10 \t|   0.050000 \t|   0.100000\n",
      " 03 \t| 03 \t|   10 \t|   0.050000 \t|   0.150000\n",
      " 04 \t| 04 \t|   10 \t|   0.050000 \t|   0.200000\n",
      " 05 \t| 05 \t|   10 \t|   0.050000 \t|   0.250000\n",
      " 06 \t| 06 \t|   10 \t|   0.050000 \t|   0.300000\n",
      " 07 \t| 07 \t|   10 \t|   0.050000 \t|   0.350000\n",
      " 08 \t| 08 \t|   10 \t|   0.050000 \t|   0.400000\n",
      " 09 \t| 09 \t|   10 \t|   0.050000 \t|   0.450000\n",
      " 10 \t| 10 \t|   10 \t|   0.100000 \t|   0.500000\n",
      " 11 \t| 11 \t|   10 \t|   0.200000 \t|   0.600000\n",
      " 12 \t| 12 \t|   10 \t|   0.400000 \t|   0.800000\n",
      " 13 \t| 13 \t|   11 \t|   0.600000 \t|   1.200000\n",
      " 14 \t| 14 \t|   12 \t|   0.600000 \t|   1.800000\n",
      " 15 \t| 15 \t|   12 \t|   0.600000 \t|   2.400000\n",
      " 16 \t| 16 \t|   13 \t|   0.600000 \t|   3.000000\n",
      " 17 \t| 17 \t|   13 \t|   0.600000 \t|   3.600000\n",
      " 18 \t| 18 \t|   13 \t|   0.600000 \t|   4.200000\n",
      " 19 \t| 19 \t|   13 \t|   0.600000 \t|   4.800000\n",
      " 20 \t| 20 \t|   13 \t|   0.600000 \t|   5.400000\n",
      " 21 \t| 21 \t|   13 \t|   0.600000 \t|   6.000000\n",
      " 22 \t| 22 \t|   13 \t|   0.800000 \t|   6.600000\n",
      " 23 \t| 23 \t|   13 \t|   0.800000 \t|   7.400000\n",
      " 24 \t| 24 \t|   13 \t|   0.800000 \t|   8.200000\n",
      " 25 \t| 25 \t|   13 \t|   0.800000 \t|   9.000000\n",
      " 26 \t| 26 \t|   13 \t|   0.800000 \t|   9.800000\n",
      " 27 \t| 27 \t|   13 \t|   0.800000 \t|  10.600000\n",
      " 28 \t| 28 \t|   13 \t|   0.800000 \t|  11.400000\n",
      " 29 \t| 29 \t|   13 \t|   0.800000 \t|  12.200000\n",
      " 30 \t| 30 \t|   13 \t|   0.800000 \t|  13.000000\n",
      " 31 \t| 31 \t|   13 \t|   0.800000 \t|  13.800000\n",
      " 32 \t| 32 \t|   13 \t|   0.800000 \t|  14.600000\n",
      " 33 \t| 33 \t|   13 \t|   0.800000 \t|  15.400000\n"
     ]
    }
   ],
   "source": [
    "# geometry of the transect extrusion\n",
    "transect_layer_types = []\n",
    "transect_layer_data = []\n",
    "transect_layer_ncells = []\n",
    "\n",
    "depth = []  # bookkeeping for material IDs\n",
    "current_depth = 0\n",
    "\n",
    "# We use the same dz as the above column, but because the material ID will change\n",
    "# at a given depth in x, we spell it out with 1 cell per transect.\n",
    "#\n",
    "# 10 cells @ 5cm\n",
    "dz = .05\n",
    "depth.append(current_depth)\n",
    "for i in range(10):\n",
    "    transect_layer_types.append('constant')\n",
    "    transect_layer_data.append(dz)\n",
    "    transect_layer_ncells.append(1)\n",
    "    current_depth += dz\n",
    "    depth.append(current_depth)\n",
    "    \n",
    "# grow dz by factors of 2, til we hit 2m\n",
    "i = 0\n",
    "while current_depth < 1:\n",
    "    dz *= 2\n",
    "    transect_layer_types.append(\"constant\")\n",
    "    transect_layer_data.append(dz)\n",
    "    transect_layer_ncells.append(1)\n",
    "    current_depth += dz\n",
    "    depth.append(current_depth)\n",
    "\n",
    "# 2m cells to 40m\n",
    "dz = 0.6\n",
    "while current_depth < 6:\n",
    "    transect_layer_types.append(\"constant\")\n",
    "    transect_layer_data.append(dz)\n",
    "    transect_layer_ncells.append(1)\n",
    "    current_depth += dz\n",
    "    depth.append(current_depth)\n",
    "dz = 0.8\n",
    "while current_depth < 16:\n",
    "    transect_layer_types.append(\"constant\")\n",
    "    transect_layer_data.append(dz)\n",
    "    transect_layer_ncells.append(1)\n",
    "    current_depth += dz\n",
    "    depth.append(current_depth)\n",
    "\n",
    "# calculate the cell centroid depth\n",
    "depth = np.array(depth)\n",
    "transect_layer_depth = (depth[0:-1] + depth[1:])/2\n",
    "\n",
    "# allocate 2D matrix for material id, (# surface cells, # layers)\n",
    "n_layers = len(transect_layer_data)\n",
    "transect_layer_mat_ids=np.zeros((n_layers, m2.num_cells()), 'i')\n",
    "for j in range(m2.num_cells()):\n",
    "    for i in range(n_layers):\n",
    "        if (transect_layer_depth[i] <= layer_1[j]):\n",
    "            transect_layer_mat_ids[i,j] = 10\n",
    "        elif ((layer_1[j] < transect_layer_depth[i]) and (transect_layer_depth[i] <= layer_2[j])):\n",
    "            transect_layer_mat_ids[i,j] = 11\n",
    "        elif ((layer_2[j] < transect_layer_depth[i]) and (transect_layer_depth[i] <= layer_3[j])):\n",
    "            transect_layer_mat_ids[i,j] = 12\n",
    "        else:\n",
    "            transect_layer_mat_ids[i,j] = 13\n",
    "\n",
    "# print out the layer information for the first column of cells\n",
    "meshing_ats.summarize_extrusion(transect_layer_types, transect_layer_data, \n",
    "                                transect_layer_ncells, transect_layer_mat_ids, 0)\n",
    "\n",
    "\n",
    "\n"
   ]
  },
  {
   "cell_type": "code",
   "execution_count": 10,
   "id": "70742b36-9108-4d4f-861a-7aec3677774e",
   "metadata": {},
   "outputs": [
    {
     "name": "stdout",
     "output_type": "stream",
     "text": [
      "\n",
      "You are using exodus.py v 1.20.2 (seacas-py3), a python wrapper of some of the exodus library.\n",
      "\n",
      "Copyright (c) 2013, 2014, 2015, 2016, 2017, 2018, 2019, 2020, 2021 National Technology &\n",
      "Engineering Solutions of Sandia, LLC (NTESS).  Under the terms of\n",
      "Contract DE-NA0003525 with NTESS, the U.S. Government retains certain\n",
      "rights in this software.\n",
      "\n",
      "Opening exodus file: Mesh_TR010.exo\n",
      "Closing exodus file: Mesh_TR010.exo\n"
     ]
    }
   ],
   "source": [
    "# make the mesh, save it as an exodus file\n",
    "m3 = meshing_ats.Mesh3D.extruded_Mesh2D(m2, transect_layer_types,transect_layer_data, \n",
    "                                        transect_layer_ncells, transect_layer_mat_ids)\n",
    "if os.path.exists('Mesh_TR010.exo'):\n",
    "    os.remove('Mesh_TR010.exo')\n",
    "m3.write_exodus('Mesh_TR010.exo')\n"
   ]
  },
  {
   "cell_type": "code",
   "execution_count": 11,
   "id": "869aefea-cc10-49c5-ab0a-740b05637e6e",
   "metadata": {},
   "outputs": [
    {
     "name": "stderr",
     "output_type": "stream",
     "text": [
      "\n",
      "App to convert unstructured meshes between formats\n",
      "Contact: Rao Garimella (rao@lanl.gov)\n",
      "\n",
      "Importing mesh from ExodusII file...Building classification information....Done\n",
      "Exporting mesh to ExodusII/NemesisI format...Done\n"
     ]
    },
    {
     "data": {
      "text/plain": [
       "0"
      ]
     },
     "execution_count": 11,
     "metadata": {},
     "output_type": "execute_result"
    }
   ],
   "source": [
    "# Now convert the file from \"polyhedral\" to \"fixed format\" and open it in VisIt or Paraview.\n",
    "os.system(\"$AMANZI_TPLS_DIR/bin/meshconvert Mesh_TR010.exo Mesh_TR010a.exo\")"
   ]
  },
  {
   "cell_type": "code",
   "execution_count": null,
   "id": "d25cb7ee-ba61-4f1e-b36e-ad5900f75f34",
   "metadata": {},
   "outputs": [],
   "source": []
  }
 ],
 "metadata": {
  "kernelspec": {
   "display_name": "Python 3 (ipykernel)",
   "language": "python",
   "name": "python3"
  },
  "language_info": {
   "codemirror_mode": {
    "name": "ipython",
    "version": 3
   },
   "file_extension": ".py",
   "mimetype": "text/x-python",
   "name": "python",
   "nbconvert_exporter": "python",
   "pygments_lexer": "ipython3",
   "version": "3.8.5"
  }
 },
 "nbformat": 4,
 "nbformat_minor": 5
}
